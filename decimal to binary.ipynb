{
 "cells": [
  {
   "cell_type": "code",
   "execution_count": 1,
   "metadata": {},
   "outputs": [
    {
     "name": "stdout",
     "output_type": "stream",
     "text": [
      "21 in decimal is equal to [1, 0, 1, 0, 1] in binary\n",
      "It has 3 one in it\n"
     ]
    }
   ],
   "source": [
    "# This function gets \"a\" as a decimal number, turns it into binary system,\n",
    "# and determines the number of \"1\"s in this system.\n",
    "\n",
    "def count_bits(a):\n",
    "    A=a\n",
    "    L=[]\n",
    "    while a>=1:\n",
    "        b=a%2\n",
    "        L.append(b)\n",
    "        a=a//2\n",
    "        x=0\n",
    "        for i in L:\n",
    "            if i==1:\n",
    "                x=x+1\n",
    "    print( A, \"in decimal is equal to\", L[::-1], \"in binary\")\n",
    "    return print(\"It has\", x, \"one in it\")\n",
    "\n",
    "count_bits(21)"
   ]
  },
  {
   "cell_type": "code",
   "execution_count": null,
   "metadata": {},
   "outputs": [],
   "source": []
  }
 ],
 "metadata": {
  "kernelspec": {
   "display_name": "Python 3",
   "language": "python",
   "name": "python3"
  },
  "language_info": {
   "codemirror_mode": {
    "name": "ipython",
    "version": 3
   },
   "file_extension": ".py",
   "mimetype": "text/x-python",
   "name": "python",
   "nbconvert_exporter": "python",
   "pygments_lexer": "ipython3",
   "version": "3.8.1"
  }
 },
 "nbformat": 4,
 "nbformat_minor": 4
}
